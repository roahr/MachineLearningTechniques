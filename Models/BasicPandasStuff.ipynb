{
  "cells": [
    {
      "cell_type": "markdown",
      "metadata": {},
      "source": [
        "# CS2806--Machine Learning Techniques Lab -- Cyber\n",
        "\n",
        "**Name : Roahith R**\n",
        "\n",
        "**Registration_Number : 22011103048**\n"
      ]
    },
    {
      "cell_type": "markdown",
      "metadata": {
        "id": "qtzFnRyxyiFg"
      },
      "source": [
        "## LAB 1 (26-12-2023)\n",
        "\n",
        "The following topics will be tested/reviewed in this notebook.\n",
        "- Basic I/O in python\n",
        "- Functions and Classes in Python\n",
        "- Descision statements and Loops\n",
        "- Numpy and Matplotlib\n",
        "- pandas\n",
        "- scikit-learn\n"
      ]
    },
    {
      "cell_type": "markdown",
      "metadata": {
        "id": "Q5qa8qYa0JnN"
      },
      "source": [
        "## Basic I/O in python\n",
        "Write python program for the following:\n",
        "- print the result of $\\sqrt{b^2-4ac}$\n",
        "- accept a string and print the reverse of the string"
      ]
    },
    {
      "cell_type": "code",
      "execution_count": 1,
      "metadata": {
        "id": "6TXgRv65HPPd"
      },
      "outputs": [
        {
          "ename": "ValueError",
          "evalue": "invalid literal for int() with base 10: ''",
          "output_type": "error",
          "traceback": [
            "\u001b[1;31m---------------------------------------------------------------------------\u001b[0m",
            "\u001b[1;31mValueError\u001b[0m                                Traceback (most recent call last)",
            "Cell \u001b[1;32mIn[1], line 22\u001b[0m\n\u001b[0;32m     18\u001b[0m \u001b[38;5;28;01mdef\u001b[39;00m \u001b[38;5;21mprogramSolution2\u001b[39m():\n\u001b[0;32m     19\u001b[0m     \u001b[38;5;28;01mreturn\u001b[39;00m \u001b[38;5;28minput\u001b[39m(\u001b[38;5;124m\"\u001b[39m\u001b[38;5;124mEnter String To reverse : \u001b[39m\u001b[38;5;124m\"\u001b[39m)[::\u001b[38;5;241m-\u001b[39m\u001b[38;5;241m1\u001b[39m]\n\u001b[1;32m---> 22\u001b[0m \u001b[38;5;28mprint\u001b[39m(\u001b[43mprogramSolution1\u001b[49m\u001b[43m(\u001b[49m\u001b[43m)\u001b[49m)\n\u001b[0;32m     23\u001b[0m \u001b[38;5;28mprint\u001b[39m(programSolution2())\n",
            "Cell \u001b[1;32mIn[1], line 11\u001b[0m, in \u001b[0;36mprogramSolution1\u001b[1;34m()\u001b[0m\n\u001b[0;32m      9\u001b[0m         b \u001b[38;5;241m=\u001b[39m \u001b[38;5;28mint\u001b[39m(i[:i\u001b[38;5;241m.\u001b[39mindex(\u001b[38;5;124m\"\u001b[39m\u001b[38;5;124mx\u001b[39m\u001b[38;5;124m\"\u001b[39m)])\n\u001b[0;32m     10\u001b[0m     \u001b[38;5;28;01melse\u001b[39;00m :\n\u001b[1;32m---> 11\u001b[0m         c \u001b[38;5;241m=\u001b[39m \u001b[38;5;28;43mint\u001b[39;49m\u001b[43m(\u001b[49m\u001b[43mi\u001b[49m\u001b[43m)\u001b[49m\n\u001b[0;32m     13\u001b[0m val \u001b[38;5;241m=\u001b[39m \u001b[38;5;28mround\u001b[39m(math\u001b[38;5;241m.\u001b[39msqrt((b\u001b[38;5;241m*\u001b[39mb)\u001b[38;5;241m-\u001b[39m\u001b[38;5;241m4\u001b[39m\u001b[38;5;241m*\u001b[39ma\u001b[38;5;241m*\u001b[39mc),\u001b[38;5;241m5\u001b[39m)\n\u001b[0;32m     15\u001b[0m \u001b[38;5;28;01mreturn\u001b[39;00m  val \u001b[38;5;28;01mif\u001b[39;00m val \u001b[38;5;241m>\u001b[39m \u001b[38;5;241m0\u001b[39m \u001b[38;5;28;01melse\u001b[39;00m \u001b[38;5;124m\"\u001b[39m\u001b[38;5;124mNegative Value\u001b[39m\u001b[38;5;124m\"\u001b[39m\n",
            "\u001b[1;31mValueError\u001b[0m: invalid literal for int() with base 10: ''"
          ]
        }
      ],
      "source": [
        "# Program 1\n",
        "import math\n",
        "def programSolution1():\n",
        "    poly = input(\"Enter Polynomial : \").split(\"+\") \n",
        "    for i in poly:\n",
        "        if i.__contains__(\"x^2\") :\n",
        "            a = int(i[:i.index(\"x^2\")])\n",
        "        if i.__contains__(\"x\") :\n",
        "            b = int(i[:i.index(\"x\")])\n",
        "        else :\n",
        "            c = int(i)\n",
        "\n",
        "    val = round(math.sqrt((b*b)-4*a*c),5)\n",
        "    \n",
        "    return  val if val > 0 else \"Negative Value\"\n",
        "\n",
        "# Program 2\n",
        "def programSolution2():\n",
        "    return input(\"Enter String To reverse : \")[::-1]\n",
        "\n",
        "\n",
        "print(programSolution1())\n",
        "print(programSolution2())\n",
        "        "
      ]
    },
    {
      "cell_type": "markdown",
      "metadata": {
        "id": "caXS1_7O4LwU"
      },
      "source": [
        "## Decision statements and Loops\n",
        "Write python program for the following:\n",
        "- Given a list, check how many times an element is present in the list\n",
        "- Given two numbers a, b and b>a, find how many even numbers, odd numbers and prime numbers are there."
      ]
    },
    {
      "cell_type": "code",
      "execution_count": null,
      "metadata": {
        "id": "ahtYg_-QHJbh"
      },
      "outputs": [],
      "source": [
        "# Program 3\n",
        "def programSolution3():\n",
        "    ## SampleList \n",
        "    list = ['apple','orange','mango','apple','kiwi','fruit','apple','mango','helicopter']\n",
        "    countInfo = dict()\n",
        "    for elem in list:\n",
        "        if elem not in countInfo.keys() : \n",
        "            countInfo[elem] = 1\n",
        "        else:\n",
        "            countInfo[elem] = countInfo[elem] + 1\n",
        "    \n",
        "    return countInfo\n",
        "\n",
        "# Program 4\n",
        "def programSolution4():\n",
        "    ## SampleList \n",
        "    a = int(input(\"Enter Lower Bound : \"))\n",
        "    b = int(input(\"Enter Upper Bound :\"))\n",
        "    countInfo = {\n",
        "        \"Even\" : 0,\n",
        "        \"Odd\" : 0,\n",
        "        \"Prime\" : 0\n",
        "    }\n",
        "\n",
        "    for i in range(a,b+1):\n",
        "\n",
        "        if i%2 != 0 : \n",
        "            countInfo['Odd']+= 1  \n",
        "\n",
        "        if i%2 == 0:\n",
        "            countInfo['Even'] += 1\n",
        "\n",
        "        flag = 0 \n",
        "        for j in range(2,i):\n",
        "            if i%j == 0:\n",
        "                flag+=1\n",
        "        if flag == 0 :\n",
        "            countInfo['Prime'] +=1\n",
        "\n",
        "    return countInfo if b>a else \"Invalid Range\"\n",
        "\n",
        "\n",
        "print(programSolution3())\n",
        "print(programSolution4())"
      ]
    },
    {
      "cell_type": "markdown",
      "metadata": {
        "id": "6tg59s2f4Gd9"
      },
      "source": [
        "## Functions and Classes\n",
        "\n",
        "Write python functions for the following:\n",
        "- accept a string (a row of comma separated values) and returns a list whose elemetns are the values from the string\n",
        "- given a list of names return the total characters in that list\n",
        "\n",
        "Write class for the following:\n",
        "- Complex number arithmetic (+,*) Try operator overloading\n"
      ]
    },
    {
      "cell_type": "code",
      "execution_count": null,
      "metadata": {
        "id": "Sx3dZOLCDIi0"
      },
      "outputs": [],
      "source": [
        "# Program 5\n",
        "def programSolution5():\n",
        "    a = input(\"Enter String : \").split(\",\")\n",
        "    Numeric = []\n",
        "    for elem in a:\n",
        "        if elem.isdigit() :\n",
        "            Numeric.append(elem)\n",
        "    return Numeric\n",
        "\n",
        "# Program 6\n",
        "def programSolution6():\n",
        "    a = input(\"Enter String : \").split(\",\")\n",
        "    count = 0 \n",
        "    for elem in a:\n",
        "        count += len(elem)\n",
        "    return f\"Total Characters : {count} in string '{a}'\"\n",
        "\n",
        "print(programSolution5())\n",
        "print(programSolution6())"
      ]
    },
    {
      "cell_type": "code",
      "execution_count": null,
      "metadata": {
        "id": "leBaN3i4DI2h"
      },
      "outputs": [],
      "source": [
        "# Program 7\n",
        "class complex:\n",
        "    \n",
        "    def __init__(self,ra,ia):\n",
        "        self.real = ra\n",
        "        self.img = ia\n",
        "\n",
        "        \n",
        "    def __add__(self,O):\n",
        "        return f\"{self.real + O.real} + {self.img + O.img} i\"\n",
        "    \n",
        "    def __mul__(self,O):\n",
        "        return f\"{(self.real * O.real) - (self.img * O.img) } + {(self.real * O.img) + (O.real * self.img)} i\"\n",
        "    \n",
        "ob1 = complex(2,5)\n",
        "ob2 = complex(6,3)\n",
        "\n",
        "print(ob1 + ob2)\n",
        "print(ob1 * ob2)\n",
        "    \n",
        "    "
      ]
    },
    {
      "cell_type": "markdown",
      "metadata": {
        "id": "P9mUS1c_4Woz"
      },
      "source": [
        "## Numpy and Matplotlib\n",
        "\n",
        "### TODO\n",
        "**Numpy** is a python package that has well-optimised numerical algorithms like matrices, arrays etc.,\n",
        "- Create a list of numbers and convert it into numpy array\n",
        "- Create a 10x10 matrix (D) where each element of the matrix is given by the formula\n",
        "$$D_{ij}=i+j+1-ij$$\n",
        "- Compute the maximum value of the element in the matrix\n",
        "- go through a [short tutorial on numpy](https://numpy.org/devdocs/user/quickstart.html)\n",
        "\n",
        "**Matplotlib** is package that specialises in producing scientific grade plots.\n",
        "### TODO\n",
        "- Create two random arrays y,z using numpy\n",
        "- create an array x equal to the size of y the elements of the array x goes from 1 to size(y)\n",
        "- Plot (x,y) and (x,z)\n",
        "- Try different features"
      ]
    },
    {
      "cell_type": "code",
      "execution_count": null,
      "metadata": {
        "id": "G-mwLmlMBsxI"
      },
      "outputs": [],
      "source": [
        "import numpy as np\n",
        "\n",
        "# Program 8\n",
        "def programSolution8():\n",
        "    numbers_list = [1,2,3,5,7,9,11,13,17,19]\n",
        "    numpy_array = np.array(numbers_list)\n",
        "\n",
        "    print(numpy_array)\n",
        "\n",
        "    # Create a 10x10 matrix using the given formula\n",
        "    D = np.fromfunction(lambda i, j: i + j + 1 - i*j, (10, 10), dtype=int)\n",
        "    print(D)\n",
        "    \n",
        "    # Compute the maximum value in the matrix\n",
        "    max_value = np.max(D)\n",
        "    print(\"Maximum value in the matrix:\", max_value)\n",
        "\n",
        "    \n",
        "programSolution8()    "
      ]
    },
    {
      "cell_type": "code",
      "execution_count": null,
      "metadata": {
        "id": "RhQ6aMt9_7gt"
      },
      "outputs": [],
      "source": [
        "import numpy as np\n",
        "import matplotlib.pyplot as plt\n",
        "\n",
        "\n",
        "# Program 9\n",
        "def programSolution9():\n",
        "\n",
        "    y = np.random.rand(10)\n",
        "    z = np.random.rand(10)\n",
        "    x = np.arange(1, len(y) + 1)\n",
        "\n",
        "    # Plot (x, y) and (x, z)\n",
        "    plt.plot(x, y, label='y')\n",
        "    plt.plot(x, z, label='z')\n",
        "    plt.xlabel('x-axis')\n",
        "    plt.ylabel('y-axis')\n",
        "    plt.legend()\n",
        "\n",
        "    # Show the plot\n",
        "    plt.show()\n",
        "\n",
        "programSolution9() "
      ]
    },
    {
      "cell_type": "markdown",
      "metadata": {
        "id": "xEyJqTQe4lc4"
      },
      "source": [
        "## pandas\n",
        "\n",
        "pandas is a python package that is useful for processing tabular data. Usually, if the format of the data is in a .csv, .xls, etc., then pandas is handy in processing.\n",
        "\n",
        "### TODO\n",
        "- Own a unique dataset to workwith from [Free Dataset](https://data.world/datasets/free). You may also choose any dataset from [INDIAN DATASETS](https://indiaai.gov.in/datasets), [US Govt data](https://data.gov/)\n",
        "- Download it in CSV file\n",
        "- Clean the dataset i.e., check for any N/A values or empty values and take appropriate action on the column. (Check how to clean dataset using pandas)\n",
        "- Process the data using padas library (use describe() routine to check the statistical significance of each feature in your dataset)\n",
        "- Use scatterplot (of pandas) to study how a pair of features are related\n",
        "- Create a new column from three existing columns. For example if x1,x2,x3 denote three already existing columns then create a new column x4 = 0.56* (x3)*2 + 0.3* (x2)**2 + 0.2 * (x1)"
      ]
    },
    {
      "cell_type": "code",
      "execution_count": null,
      "metadata": {
        "id": "la82164-yb7f"
      },
      "outputs": [],
      "source": [
        "import pandas as pd\n",
        "import matplotlib.pyplot as plt\n",
        "import seaborn as sns\n",
        "\n",
        "def programSolution10():\n",
        "    # Load the dataset into a Pandas DataFrame\n",
        "    df = pd.read_csv('October_MyCall_2023.csv')\n",
        "\n",
        "    # Check for N/A values\n",
        "    print(df.isnull().sum())\n",
        "    df = df.dropna()\n",
        "\n",
        "    print(df.describe())\n",
        "\n",
        "\n",
        "    # Scatter plot: Rating vs State for each operator\n",
        "    plt.figure(figsize=(12, 6))\n",
        "    sns.scatterplot(data=df, x='state_name', y='rating', hue='operator', palette='viridis')\n",
        "    plt.title('Scatter Plot: Rating vs State for Each Operator')\n",
        "    plt.xlabel('State')\n",
        "    plt.ylabel('Rating')\n",
        "    plt.legend(title='Operator')\n",
        "    plt.xticks(rotation=45, ha='right')\n",
        "    plt.show()\n",
        "\n",
        "    # Scatter plot: Inout_travelling vs Network_type for each operator\n",
        "    plt.figure(figsize=(12, 6))\n",
        "    sns.scatterplot(data=df, x='inout_travelling', y='network_type', hue='operator', palette='viridis')\n",
        "    plt.title('Scatter Plot: Inout_travelling vs Network_type for Each Operator')\n",
        "    plt.xlabel('Inout_travelling')\n",
        "    plt.ylabel('Network_type')\n",
        "    plt.legend(title='Operator')\n",
        "    plt.show()\n",
        "\n",
        "    # Scatter plot: Calldrop_category vs State for each operator\n",
        "    plt.figure(figsize=(12, 6))\n",
        "    sns.scatterplot(data=df, x='state_name', y='calldrop_category', hue='operator', palette='viridis')\n",
        "    plt.title('Scatter Plot: Calldrop_category vs State for Each Operator')\n",
        "    plt.xlabel('State')\n",
        "    plt.ylabel('Calldrop_category')\n",
        "    plt.legend(title='Operator')\n",
        "    plt.xticks(rotation=45, ha='right')\n",
        "    plt.show() \n",
        "\n",
        "    # Create a new column 'x4' based on the given formula\n",
        "    df['advanced'] = 0.56 * (df['longitude']**2) + 0.3 * (df['latitude']**2) + 0.2 * df['rating']\n",
        "\n",
        "\n",
        "# Call the function\n",
        "programSolution10()\n"
      ]
    },
    {
      "cell_type": "markdown",
      "metadata": {
        "id": "PsCUbseo4pfF"
      },
      "source": [
        "## SCIKIT-LEARN\n",
        "\n",
        "### TODO\n",
        "- In the above dataset that you have taken, If one of your columns has non-numerical value but it is categorical (Gender, birthplace, etc,.) Use scikit-learn to encode using numerical values.\n",
        "- Explore various scaling techniques available in scikit-learn, Atleast try two of the scalers with your dataset\n",
        "- Check what is \"Polynomial features\" in scikit-learn and try it with your dataset."
      ]
    },
    {
      "cell_type": "code",
      "execution_count": null,
      "metadata": {
        "id": "EqfSKITg4skp"
      },
      "outputs": [],
      "source": [
        "import pandas as pd\n",
        "from sklearn.preprocessing import LabelEncoder, StandardScaler, MinMaxScaler, PolynomialFeatures\n",
        "\n",
        "def programSolution11():\n",
        "\n",
        "    # Load data from CSV file\n",
        "    df = pd.read_csv('October_MyCall_2023.csv')  # Replace 'your_dataset.csv' with the actual file name\n",
        "\n",
        "    # Display the original dataset\n",
        "    print(\"Original Dataset:\")\n",
        "    print(df.head())\n",
        "\n",
        "    # Encoding categorical columns\n",
        "    label_encoder = LabelEncoder()\n",
        "\n",
        "    df['operator'] = label_encoder.fit_transform(df['operator'])\n",
        "    df['inout_travelling'] = label_encoder.fit_transform(df['inout_travelling'])\n",
        "    df['network_type'] = label_encoder.fit_transform(df['network_type'])\n",
        "    df['calldrop_category'] = label_encoder.fit_transform(df['calldrop_category'])\n",
        "    df['state_name'] = label_encoder.fit_transform(df['state_name'])\n",
        "\n",
        "    # Display the encoded dataset\n",
        "    print(\"\\nEncoded Dataset:\")\n",
        "    print(df.head())\n",
        "\n",
        "    scaler_standard = StandardScaler()\n",
        "    scaler_minmax = MinMaxScaler()\n",
        "\n",
        "    # Scaling using StandardScaler\n",
        "    scaled_standard = scaler_standard.fit_transform(df[['latitude', 'longitude', 'rating']])\n",
        "\n",
        "    # Scaling using MinMaxScaler\n",
        "    scaled_minmax = scaler_minmax.fit_transform(df[['latitude', 'longitude', 'rating']])\n",
        "\n",
        "    # Display scaled data\n",
        "    print(\"\\nScaled Data (StandardScaler):\")\n",
        "    print(pd.DataFrame(scaled_standard, columns=['latitude', 'longitude', 'rating']))\n",
        "\n",
        "    print(\"\\nScaled Data (MinMaxScaler):\")\n",
        "    print(pd.DataFrame(scaled_minmax, columns=['latitude', 'longitude', 'rating']))\n",
        "\n",
        "    # Polynomial Features\n",
        "    poly_features = PolynomialFeatures(degree=2, include_bias=False)\n",
        "    poly_data = poly_features.fit_transform(df[['latitude', 'longitude', 'rating']])\n",
        "\n",
        "    # Get the feature names after polynomial transformation\n",
        "    columns_poly = poly_features.get_feature_names(['latitude', 'longitude', 'rating'])\n",
        "    df_poly = pd.DataFrame(poly_data, columns=columns_poly)\n",
        "\n",
        "    # Display polynomial features\n",
        "    print(\"\\nPolynomial Features:\")\n",
        "    print(df_poly)\n",
        "\n",
        "programSolution11()\n"
      ]
    }
  ],
  "metadata": {
    "colab": {
      "private_outputs": true,
      "provenance": []
    },
    "kernelspec": {
      "display_name": "Python 3",
      "name": "python3"
    },
    "language_info": {
      "codemirror_mode": {
        "name": "ipython",
        "version": 3
      },
      "file_extension": ".py",
      "mimetype": "text/x-python",
      "name": "python",
      "nbconvert_exporter": "python",
      "pygments_lexer": "ipython3",
      "version": "3.10.0"
    }
  },
  "nbformat": 4,
  "nbformat_minor": 0
}
